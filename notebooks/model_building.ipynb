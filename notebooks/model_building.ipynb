{
 "cells": [
  {
   "attachments": {},
   "cell_type": "markdown",
   "metadata": {},
   "source": [
    "#### Build a regression model."
   ]
  },
  {
   "cell_type": "code",
   "execution_count": 2,
   "metadata": {},
   "outputs": [
    {
     "name": "stdout",
     "output_type": "stream",
     "text": [
      "(307, 10)\n"
     ]
    },
    {
     "data": {
      "text/html": [
       "<div>\n",
       "<style scoped>\n",
       "    .dataframe tbody tr th:only-of-type {\n",
       "        vertical-align: middle;\n",
       "    }\n",
       "\n",
       "    .dataframe tbody tr th {\n",
       "        vertical-align: top;\n",
       "    }\n",
       "\n",
       "    .dataframe thead th {\n",
       "        text-align: right;\n",
       "    }\n",
       "</style>\n",
       "<table border=\"1\" class=\"dataframe\">\n",
       "  <thead>\n",
       "    <tr style=\"text-align: right;\">\n",
       "      <th></th>\n",
       "      <th>free_bikes</th>\n",
       "      <th>empty_slots</th>\n",
       "      <th>entertainment</th>\n",
       "      <th>education</th>\n",
       "      <th>dining</th>\n",
       "      <th>park</th>\n",
       "      <th>shopping</th>\n",
       "      <th>metro_station</th>\n",
       "      <th>library</th>\n",
       "      <th>financial</th>\n",
       "    </tr>\n",
       "  </thead>\n",
       "  <tbody>\n",
       "    <tr>\n",
       "      <th>0</th>\n",
       "      <td>1</td>\n",
       "      <td>10</td>\n",
       "      <td>17</td>\n",
       "      <td>16</td>\n",
       "      <td>10</td>\n",
       "      <td>3</td>\n",
       "      <td>78</td>\n",
       "      <td>3</td>\n",
       "      <td>3</td>\n",
       "      <td>3</td>\n",
       "    </tr>\n",
       "    <tr>\n",
       "      <th>1</th>\n",
       "      <td>22</td>\n",
       "      <td>0</td>\n",
       "      <td>1</td>\n",
       "      <td>6</td>\n",
       "      <td>6</td>\n",
       "      <td>0</td>\n",
       "      <td>53</td>\n",
       "      <td>0</td>\n",
       "      <td>0</td>\n",
       "      <td>1</td>\n",
       "    </tr>\n",
       "    <tr>\n",
       "      <th>2</th>\n",
       "      <td>2</td>\n",
       "      <td>19</td>\n",
       "      <td>2</td>\n",
       "      <td>3</td>\n",
       "      <td>5</td>\n",
       "      <td>1</td>\n",
       "      <td>26</td>\n",
       "      <td>0</td>\n",
       "      <td>0</td>\n",
       "      <td>0</td>\n",
       "    </tr>\n",
       "    <tr>\n",
       "      <th>3</th>\n",
       "      <td>1</td>\n",
       "      <td>16</td>\n",
       "      <td>2</td>\n",
       "      <td>5</td>\n",
       "      <td>5</td>\n",
       "      <td>0</td>\n",
       "      <td>44</td>\n",
       "      <td>0</td>\n",
       "      <td>0</td>\n",
       "      <td>0</td>\n",
       "    </tr>\n",
       "    <tr>\n",
       "      <th>4</th>\n",
       "      <td>3</td>\n",
       "      <td>12</td>\n",
       "      <td>3</td>\n",
       "      <td>6</td>\n",
       "      <td>7</td>\n",
       "      <td>1</td>\n",
       "      <td>45</td>\n",
       "      <td>0</td>\n",
       "      <td>1</td>\n",
       "      <td>0</td>\n",
       "    </tr>\n",
       "  </tbody>\n",
       "</table>\n",
       "</div>"
      ],
      "text/plain": [
       "   free_bikes  empty_slots  entertainment  education  dining  park  shopping  \\\n",
       "0           1           10             17         16      10     3        78   \n",
       "1          22            0              1          6       6     0        53   \n",
       "2           2           19              2          3       5     1        26   \n",
       "3           1           16              2          5       5     0        44   \n",
       "4           3           12              3          6       7     1        45   \n",
       "\n",
       "   metro_station  library  financial  \n",
       "0              3        3          3  \n",
       "1              0        0          1  \n",
       "2              0        0          0  \n",
       "3              0        0          0  \n",
       "4              0        1          0  "
      ]
     },
     "execution_count": 2,
     "metadata": {},
     "output_type": "execute_result"
    }
   ],
   "source": [
    "# imports\n",
    "import pandas as pd\n",
    "import numpy as np\n",
    "import statsmodels.api as sm\n",
    "\n",
    "# Save joined CityBikes and Yelp info to CSV file\n",
    "citybikes_yelp = pd.read_csv(\"data/citybikes_yelp.csv\" , encoding = \"unicode_escape\")\n",
    "df=citybikes_yelp.iloc[:,4:]\n",
    "print(df.shape)\n",
    "df.head()"
   ]
  },
  {
   "attachments": {},
   "cell_type": "markdown",
   "metadata": {},
   "source": [
    "### Forward Selection"
   ]
  },
  {
   "cell_type": "code",
   "execution_count": 3,
   "metadata": {},
   "outputs": [],
   "source": [
    "# Model Building - Forward selection \n",
    "\n",
    "y = df['free_bikes']\n",
    "indep = df.drop('free_bikes', axis=1)\n",
    "\n",
    "X = [sm.add_constant(indep[column]) for column in indep.columns] \n"
   ]
  },
  {
   "cell_type": "code",
   "execution_count": 4,
   "metadata": {},
   "outputs": [],
   "source": [
    "Models = [sm.OLS(y,x) for x in X] #list of models\n",
    "Results = [model.fit() for model in Models] #list of results\n",
    "Adj_Rsquared = [results.rsquared_adj for results in Results] #list of rsquared\n",
    "Pval = [results.pvalues for results in Results] #list of p-values\n",
    "Params = [results.params for results in Results] #list of params"
   ]
  },
  {
   "cell_type": "code",
   "execution_count": 5,
   "metadata": {},
   "outputs": [
    {
     "name": "stdout",
     "output_type": "stream",
     "text": [
      "adj_R2: 0.464, P-values: (1.5329980444236643e-86, 1.8670259356396407e-43), column: empty_slots\n",
      "adj_R2: 0.036, P-values: (9.047896661893485e-50, 0.00045696427065135823), column: entertainment\n",
      "adj_R2: 0.023, P-values: (5.187187787350413e-35, 0.0047232191591658765), column: education\n",
      "adj_R2: 0.005, P-values: (8.538145556934891e-34, 0.1179474097457588), column: dining\n",
      "adj_R2: 0.003, P-values: (2.333375448690082e-41, 0.15246883602198455), column: park\n",
      "adj_R2: 0.047, P-values: (1.882465923968005e-39, 7.673029600106789e-05), column: shopping\n",
      "adj_R2: 0.036, P-values: (5.100045517073713e-57, 0.0004975128329753588), column: metro_station\n",
      "adj_R2: 0.049, P-values: (5.449245334222141e-58, 5.001457013654126e-05), column: library\n",
      "adj_R2: -0.003, P-values: (1.2691788736390074e-35, 0.770533706645758), column: financial\n"
     ]
    }
   ],
   "source": [
    "for i in range(len(Adj_Rsquared)):\n",
    "     print(f'adj_R2: {Adj_Rsquared[i]:.3f}, P-values: {*Pval[i],}, column: {indep.columns[i]}')"
   ]
  },
  {
   "attachments": {},
   "cell_type": "markdown",
   "metadata": {},
   "source": [
    "In first step, empty_slots was selected as the first independent variable for modeling because of the highest adjacent R2."
   ]
  },
  {
   "cell_type": "code",
   "execution_count": 6,
   "metadata": {},
   "outputs": [
    {
     "name": "stdout",
     "output_type": "stream",
     "text": [
      "adj_R2: 0.464, P-values: (8.882617273698315e-85, 9.081910662201474e-41, 0.45258664790135184), column: entertainment\n",
      "adj_R2: 0.465, P-values: (5.041697543091679e-75, 6.628826853513123e-42, 0.22332499644443435), column: education\n",
      "adj_R2: 0.465, P-values: (1.8891664930331334e-73, 4.8738136712771886e-43, 0.28253973625779916), column: dining\n",
      "adj_R2: 0.465, P-values: (2.5404595252225188e-80, 3.74813650741558e-43, 0.25760878988477165), column: park\n",
      "adj_R2: 0.466, P-values: (6.538626486727351e-78, 2.158000194250122e-40, 0.13930457638478908), column: shopping\n",
      "adj_R2: 0.467, P-values: (7.3450585497112615e-87, 2.7973936422380954e-41, 0.0973746003333334), column: metro_station\n",
      "adj_R2: 0.468, P-values: (7.044018641479511e-87, 2.2476967829315954e-40, 0.08790472971286437), column: library\n",
      "adj_R2: 0.466, P-values: (9.237651115981775e-77, 9.807350293869735e-44, 0.15804306009412267), column: financial\n"
     ]
    }
   ],
   "source": [
    "remaining_var = df.drop(['free_bikes', 'empty_slots'], axis=1)\n",
    "remaining_var.head()\n",
    "\n",
    "included_df = df[['empty_slots']]\n",
    "included_df\n",
    "\n",
    "X = [sm.add_constant(pd.merge(included_df,remaining_var[column], right_index = True, left_index = True)) for column in remaining_var.columns] \n",
    "\n",
    "Models = [sm.OLS(y,x) for x in X] #list of models\n",
    "Results = [model.fit() for model in Models] #list of results\n",
    "Adj_Rsquared = [results.rsquared_adj for results in Results] #list of rsquared\n",
    "Pval = [results.pvalues for results in Results] #list of list of p-values\n",
    "\n",
    "for i in range(len(Adj_Rsquared)):\n",
    "     print(f'adj_R2: {Adj_Rsquared[i]:.3f}, P-values: {*Pval[i],}, column: {remaining_var.columns[i]}')"
   ]
  },
  {
   "attachments": {},
   "cell_type": "markdown",
   "metadata": {},
   "source": [
    "In second step, empty_slots and metro_station were selected as the second independent variable for modeling because of the highest adjacent R2."
   ]
  },
  {
   "cell_type": "code",
   "execution_count": 7,
   "metadata": {},
   "outputs": [
    {
     "name": "stdout",
     "output_type": "stream",
     "text": [
      "adj_R2: 0.464, P-values: (8.882617273698315e-85, 9.081910662201474e-41, 0.45258664790135184), column: entertainment\n",
      "adj_R2: 0.465, P-values: (5.041697543091679e-75, 6.628826853513123e-42, 0.22332499644443435), column: education\n",
      "adj_R2: 0.465, P-values: (1.8891664930331334e-73, 4.8738136712771886e-43, 0.28253973625779916), column: dining\n",
      "adj_R2: 0.465, P-values: (2.5404595252225188e-80, 3.74813650741558e-43, 0.25760878988477165), column: park\n",
      "adj_R2: 0.466, P-values: (6.538626486727351e-78, 2.158000194250122e-40, 0.13930457638478908), column: shopping\n",
      "adj_R2: 0.468, P-values: (7.044018641479511e-87, 2.2476967829315954e-40, 0.08790472971286437), column: library\n",
      "adj_R2: 0.466, P-values: (9.237651115981775e-77, 9.807350293869735e-44, 0.15804306009412267), column: financial\n"
     ]
    }
   ],
   "source": [
    "remaining_var = df.drop(['free_bikes', 'empty_slots','metro_station'], axis=1)\n",
    "remaining_var.head()\n",
    "\n",
    "included_df = df[['empty_slots']]\n",
    "included_df\n",
    "\n",
    "X = [sm.add_constant(pd.merge(included_df,remaining_var[column], right_index = True, left_index = True)) for column in remaining_var.columns] \n",
    "\n",
    "Models = [sm.OLS(y,x) for x in X] #list of models\n",
    "Results = [model.fit() for model in Models] #list of results\n",
    "Adj_Rsquared = [results.rsquared_adj for results in Results] #list of rsquared\n",
    "Pval = [results.pvalues for results in Results] #list of list of p-values\n",
    "\n",
    "for i in range(len(Adj_Rsquared)):\n",
    "     print(f'adj_R2: {Adj_Rsquared[i]:.3f}, P-values: {*Pval[i],}, column: {remaining_var.columns[i]}')"
   ]
  },
  {
   "attachments": {},
   "cell_type": "markdown",
   "metadata": {},
   "source": [
    "Because adjacent R2 increasing have stoped, modeling is stoped here."
   ]
  },
  {
   "attachments": {},
   "cell_type": "markdown",
   "metadata": {},
   "source": [
    "### Backward Selection"
   ]
  },
  {
   "cell_type": "code",
   "execution_count": 8,
   "metadata": {},
   "outputs": [
    {
     "name": "stdout",
     "output_type": "stream",
     "text": [
      "                            OLS Regression Results                            \n",
      "==============================================================================\n",
      "Dep. Variable:             free_bikes   R-squared:                       0.497\n",
      "Model:                            OLS   Adj. R-squared:                  0.482\n",
      "Method:                 Least Squares   F-statistic:                     32.60\n",
      "Date:                Mon, 27 Feb 2023   Prob (F-statistic):           1.56e-39\n",
      "Time:                        09:41:15   Log-Likelihood:                -829.83\n",
      "No. Observations:                 307   AIC:                             1680.\n",
      "Df Residuals:                     297   BIC:                             1717.\n",
      "Df Model:                           9                                         \n",
      "Covariance Type:            nonrobust                                         \n",
      "=================================================================================\n",
      "                    coef    std err          t      P>|t|      [0.025      0.975]\n",
      "---------------------------------------------------------------------------------\n",
      "const            11.5125      0.565     20.360      0.000      10.400      12.625\n",
      "empty_slots      -0.5309      0.037    -14.462      0.000      -0.603      -0.459\n",
      "entertainment     0.0704      0.116      0.609      0.543      -0.157       0.298\n",
      "education         0.0031      0.070      0.045      0.964      -0.134       0.140\n",
      "dining            0.0531      0.039      1.371      0.171      -0.023       0.129\n",
      "park             -0.2433      0.192     -1.269      0.205      -0.620       0.134\n",
      "shopping         -0.0363      0.013     -2.812      0.005      -0.062      -0.011\n",
      "metro_station    -0.6826      0.618     -1.104      0.271      -1.900       0.535\n",
      "library           0.0074      0.436      0.017      0.986      -0.851       0.866\n",
      "financial         0.4554      0.225      2.025      0.044       0.013       0.898\n",
      "==============================================================================\n",
      "Omnibus:                       37.986   Durbin-Watson:                   1.977\n",
      "Prob(Omnibus):                  0.000   Jarque-Bera (JB):               52.739\n",
      "Skew:                           0.821   Prob(JB):                     3.53e-12\n",
      "Kurtosis:                       4.194   Cond. No.                         159.\n",
      "==============================================================================\n",
      "\n",
      "Notes:\n",
      "[1] Standard Errors assume that the covariance matrix of the errors is correctly specified.\n"
     ]
    }
   ],
   "source": [
    "# Model Building - Backward selection \n",
    "#run full model\n",
    "y = df['free_bikes']\n",
    "X = df.drop('free_bikes', axis=1)\n",
    "X = sm.add_constant(X) #adds a column of 1's so the model will contain an intercept\n",
    "\n",
    "model = sm.OLS(y, X)\n",
    "results = model.fit()\n",
    "print(results.summary())"
   ]
  },
  {
   "attachments": {},
   "cell_type": "markdown",
   "metadata": {},
   "source": [
    "In first step, independent variables with p-value higher than 0.05 were omitted."
   ]
  },
  {
   "cell_type": "markdown",
   "metadata": {},
   "source": [
    "Provide model output and an interpretation of the results. "
   ]
  },
  {
   "cell_type": "code",
   "execution_count": 9,
   "metadata": {},
   "outputs": [
    {
     "name": "stdout",
     "output_type": "stream",
     "text": [
      "                            OLS Regression Results                            \n",
      "==============================================================================\n",
      "Dep. Variable:             free_bikes   R-squared:                       0.487\n",
      "Model:                            OLS   Adj. R-squared:                  0.482\n",
      "Method:                 Least Squares   F-statistic:                     95.93\n",
      "Date:                Mon, 27 Feb 2023   Prob (F-statistic):           1.13e-43\n",
      "Time:                        09:41:16   Log-Likelihood:                -832.80\n",
      "No. Observations:                 307   AIC:                             1674.\n",
      "Df Residuals:                     303   BIC:                             1689.\n",
      "Df Model:                           3                                         \n",
      "Covariance Type:            nonrobust                                         \n",
      "===============================================================================\n",
      "                  coef    std err          t      P>|t|      [0.025      0.975]\n",
      "-------------------------------------------------------------------------------\n",
      "const          11.5321      0.451     25.545      0.000      10.644      12.420\n",
      "empty_slots    -0.5476      0.035    -15.512      0.000      -0.617      -0.478\n",
      "shopping       -0.0340      0.011     -3.227      0.001      -0.055      -0.013\n",
      "financial       0.5940      0.186      3.196      0.002       0.228       0.960\n",
      "==============================================================================\n",
      "Omnibus:                       41.209   Durbin-Watson:                   1.985\n",
      "Prob(Omnibus):                  0.000   Jarque-Bera (JB):               58.366\n",
      "Skew:                           0.870   Prob(JB):                     2.12e-13\n",
      "Kurtosis:                       4.239   Cond. No.                         100.\n",
      "==============================================================================\n",
      "\n",
      "Notes:\n",
      "[1] Standard Errors assume that the covariance matrix of the errors is correctly specified.\n"
     ]
    }
   ],
   "source": [
    "y = df['free_bikes']\n",
    "X = df.drop(['free_bikes','entertainment','education','dining','park','metro_station','library'], axis=1)\n",
    "X = sm.add_constant(X) #adds a column of 1's so the model will contain an intercept\n",
    "\n",
    "model = sm.OLS(y, X)\n",
    "results = model.fit() #fit the model (this is where OLS is actually being run)\n",
    "print(results.summary())"
   ]
  },
  {
   "attachments": {},
   "cell_type": "markdown",
   "metadata": {},
   "source": [
    "As adjacent R2 increasing stopped, we stop modeling. As we observed all p-values are less than 0.05. It means empty_slots, shopping, and financial are effective on the target."
   ]
  },
  {
   "cell_type": "markdown",
   "metadata": {},
   "source": [
    "# Stretch"
   ]
  },
  {
   "attachments": {},
   "cell_type": "markdown",
   "metadata": {},
   "source": [
    "#### How can you turn the regression model into a classification model?\n",
    "\n",
    "For classification modeling, the target should be a categorical variable. so we can change free_bikes to three groups: \n",
    "\n",
    "1- Low:    If     free_bikes   <= 0.35*capacity   \n",
    "2- Medium: If     0.35*capacity < free_bikes   <= 0.70  capacity     \n",
    "3- High:   If     0.70*capacity < free_bikes  \n",
    "\n",
    "When capacity = free_bikes + empty_slots"
   ]
  },
  {
   "cell_type": "code",
   "execution_count": null,
   "metadata": {},
   "outputs": [],
   "source": []
  }
 ],
 "metadata": {
  "kernelspec": {
   "display_name": "base",
   "language": "python",
   "name": "python3"
  },
  "language_info": {
   "codemirror_mode": {
    "name": "ipython",
    "version": 3
   },
   "file_extension": ".py",
   "mimetype": "text/x-python",
   "name": "python",
   "nbconvert_exporter": "python",
   "pygments_lexer": "ipython3",
   "version": "3.9.13"
  },
  "vscode": {
   "interpreter": {
    "hash": "57bc2b6ce032b5f0e93daa91901b7ea38a856826ef43aa9e95b6d3999f5310df"
   }
  }
 },
 "nbformat": 4,
 "nbformat_minor": 4
}
